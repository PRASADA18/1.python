{
 "cells": [
  {
   "cell_type": "code",
   "execution_count": 1,
   "id": "d20152e3",
   "metadata": {},
   "outputs": [
    {
     "name": "stdout",
     "output_type": "stream",
     "text": [
      "value : 10\n",
      "correct\n"
     ]
    }
   ],
   "source": [
    "i = int(input('value : '))\n",
    "\n",
    "\n",
    "if (i==10):\n",
    "    print('correct')"
   ]
  },
  {
   "cell_type": "code",
   "execution_count": 3,
   "id": "da66d0dd",
   "metadata": {},
   "outputs": [
    {
     "name": "stdout",
     "output_type": "stream",
     "text": [
      "enter the password: Hope@123\n",
      "correct password\n"
     ]
    }
   ],
   "source": [
    "password = input('enter the password: ')\n",
    "\n",
    "if (password == 'Hope@123'):\n",
    "    print('correct password')\n",
    "else:\n",
    "    print('wrong password')"
   ]
  },
  {
   "cell_type": "code",
   "execution_count": 15,
   "id": "e5ad1386",
   "metadata": {},
   "outputs": [
    {
     "name": "stdout",
     "output_type": "stream",
     "text": [
      "age : 45\n",
      "citizen\n"
     ]
    }
   ],
   "source": [
    "age = int(input('age : '))\n",
    "\n",
    "if (age<18):\n",
    "    print('children')\n",
    "    \n",
    "elif (age<35):\n",
    "    print('adult')\n",
    "    \n",
    "elif(35<=age<60):\n",
    "    print('citizen')\n",
    "    \n",
    "else:\n",
    "    print('Sr citizen')"
   ]
  },
  {
   "cell_type": "code",
   "execution_count": 22,
   "id": "3b4716ea",
   "metadata": {},
   "outputs": [
    {
     "name": "stdout",
     "output_type": "stream",
     "text": [
      "value : 1\n",
      "1 is poitive\n"
     ]
    }
   ],
   "source": [
    "num = int(input('value : '))\n",
    "\n",
    "if (num>0):\n",
    "    print(num,'is poitive')\n",
    "elif (num ==0):\n",
    "    print(num,'is neutral')\n",
    "else:\n",
    "    print(num,'is neg')"
   ]
  },
  {
   "cell_type": "code",
   "execution_count": 27,
   "id": "9fba3c43",
   "metadata": {},
   "outputs": [
    {
     "name": "stdout",
     "output_type": "stream",
     "text": [
      "value : 22\n",
      "22 not div by 5\n"
     ]
    }
   ],
   "source": [
    "num1 = int(input('value : '))\n",
    "\n",
    "if (num%5==0):\n",
    "    print(num1,'Div by 5')\n",
    "else:\n",
    "    print(num1,'not div by 5')"
   ]
  },
  {
   "cell_type": "code",
   "execution_count": null,
   "id": "d3a08298",
   "metadata": {},
   "outputs": [],
   "source": []
  }
 ],
 "metadata": {
  "kernelspec": {
   "display_name": "Python 3 (ipykernel)",
   "language": "python",
   "name": "python3"
  },
  "language_info": {
   "codemirror_mode": {
    "name": "ipython",
    "version": 3
   },
   "file_extension": ".py",
   "mimetype": "text/x-python",
   "name": "python",
   "nbconvert_exporter": "python",
   "pygments_lexer": "ipython3",
   "version": "3.9.13"
  }
 },
 "nbformat": 4,
 "nbformat_minor": 5
}
