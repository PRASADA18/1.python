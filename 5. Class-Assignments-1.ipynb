{
 "cells": [
  {
   "cell_type": "code",
   "execution_count": 7,
   "id": "945ab8b3",
   "metadata": {},
   "outputs": [],
   "source": [
    "#created library for using Class and function\n",
    "\n",
    "from Multifunction import Multifunction"
   ]
  },
  {
   "cell_type": "code",
   "execution_count": 2,
   "id": "df2b7192",
   "metadata": {},
   "outputs": [
    {
     "name": "stdout",
     "output_type": "stream",
     "text": [
      "Sub-fields in AI are:\n",
      "Machine Learning\n",
      "Neural Networks\n",
      "Vision\n",
      "Robotics\n",
      "Speech Processing\n",
      "Natural Language Processing\n"
     ]
    }
   ],
   "source": [
    "#Calling fields under AI\n",
    "Multifunction.Subfields1()"
   ]
  },
  {
   "cell_type": "code",
   "execution_count": 3,
   "id": "2f84b29b",
   "metadata": {},
   "outputs": [
    {
     "name": "stdout",
     "output_type": "stream",
     "text": [
      "enter the num2\n",
      "2 is even num\n"
     ]
    }
   ],
   "source": [
    "#check whether number is even or odd\n",
    "Multifunction.OddEven()"
   ]
  },
  {
   "cell_type": "code",
   "execution_count": 4,
   "id": "d034733a",
   "metadata": {},
   "outputs": [
    {
     "name": "stdout",
     "output_type": "stream",
     "text": [
      "Enter your Gender: male\n",
      "Enter the age: 22\n",
      "Eligible for Marraige\n"
     ]
    }
   ],
   "source": [
    "#check gender and age elibility \n",
    "Multifunction.eligible()"
   ]
  },
  {
   "cell_type": "code",
   "execution_count": 5,
   "id": "479f4488",
   "metadata": {},
   "outputs": [
    {
     "name": "stdout",
     "output_type": "stream",
     "text": [
      "Enter your mark:90\n",
      "Enter your mark:99\n",
      "Enter your mark:95\n",
      "total: 284\n",
      "percentage: 94.66666666666667\n"
     ]
    }
   ],
   "source": [
    "#Check for 3 subject total and percentage\n",
    "Multifunction.score()"
   ]
  },
  {
   "cell_type": "code",
   "execution_count": 6,
   "id": "057b7481",
   "metadata": {},
   "outputs": [
    {
     "name": "stdout",
     "output_type": "stream",
     "text": [
      "Enter the height: 3\n",
      "Enter the breath: 7\n",
      "Triangle area: (height * breath)/2\n",
      "Area of triangle: 10.5\n",
      "Enter the height1: 8\n",
      "Enter the height2: 3\n",
      "Enter the breath: 5\n",
      "Triangle perimeter: (height1 + height2 + breath)\n",
      "Perimeter of triangle: 16\n"
     ]
    }
   ],
   "source": [
    "#Cal area and perimeter of Triangle\n",
    "Multifunction.triangle()"
   ]
  }
 ],
 "metadata": {
  "kernelspec": {
   "display_name": "Python 3 (ipykernel)",
   "language": "python",
   "name": "python3"
  },
  "language_info": {
   "codemirror_mode": {
    "name": "ipython",
    "version": 3
   },
   "file_extension": ".py",
   "mimetype": "text/x-python",
   "name": "python",
   "nbconvert_exporter": "python",
   "pygments_lexer": "ipython3",
   "version": "3.9.13"
  }
 },
 "nbformat": 4,
 "nbformat_minor": 5
}
