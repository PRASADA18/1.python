{
 "cells": [
  {
   "cell_type": "code",
   "execution_count": 1,
   "id": "c3bb2293",
   "metadata": {},
   "outputs": [
    {
     "name": "stdout",
     "output_type": "stream",
     "text": [
      "Hope AI\n"
     ]
    }
   ],
   "source": [
    "print('Hope AI')"
   ]
  },
  {
   "cell_type": "code",
   "execution_count": 2,
   "id": "3e42878c",
   "metadata": {},
   "outputs": [
    {
     "name": "stdout",
     "output_type": "stream",
     "text": [
      "Enter the inst name:HOPE AI\n"
     ]
    }
   ],
   "source": [
    "x = input('Enter the inst name:')\n"
   ]
  },
  {
   "cell_type": "code",
   "execution_count": 3,
   "id": "8cc3760a",
   "metadata": {},
   "outputs": [
    {
     "name": "stdout",
     "output_type": "stream",
     "text": [
      "enter your name:PRASAD\n",
      "enter your age: 29\n",
      "enter your school: MATRIC\n",
      "enter your qualification: BE\n"
     ]
    }
   ],
   "source": [
    "name= input('enter your name:')\n",
    "age = int(input('enter your age: '))\n",
    "school=input('enter your school: ')\n",
    "Qualification = input('enter your qualification: ')"
   ]
  },
  {
   "cell_type": "code",
   "execution_count": 4,
   "id": "9dceb19d",
   "metadata": {},
   "outputs": [
    {
     "data": {
      "text/plain": [
       "343"
      ]
     },
     "execution_count": 4,
     "metadata": {},
     "output_type": "execute_result"
    }
   ],
   "source": [
    "#power\n",
    "\n",
    "a=7\n",
    "b=3\n",
    "power=a**b\n",
    "power"
   ]
  },
  {
   "cell_type": "code",
   "execution_count": 5,
   "id": "568a1c68",
   "metadata": {},
   "outputs": [
    {
     "data": {
      "text/plain": [
       "2.4516129032258065"
      ]
     },
     "execution_count": 5,
     "metadata": {},
     "output_type": "execute_result"
    }
   ],
   "source": [
    "#div\n",
    "\n",
    "a=76\n",
    "b=31\n",
    "\n",
    "Float_div=a/b\n",
    "Float_div"
   ]
  },
  {
   "cell_type": "code",
   "execution_count": 6,
   "id": "5649c644",
   "metadata": {},
   "outputs": [
    {
     "data": {
      "text/plain": [
       "14"
      ]
     },
     "execution_count": 6,
     "metadata": {},
     "output_type": "execute_result"
    }
   ],
   "source": [
    "#modulo\n",
    "\n",
    "a=76\n",
    "b=31\n",
    "mod=a%b\n",
    "mod\n"
   ]
  },
  {
   "cell_type": "code",
   "execution_count": 7,
   "id": "486a4ae9",
   "metadata": {},
   "outputs": [
    {
     "data": {
      "text/plain": [
       "2"
      ]
     },
     "execution_count": 7,
     "metadata": {},
     "output_type": "execute_result"
    }
   ],
   "source": [
    "#floor div\n",
    "\n",
    "a=76\n",
    "b=31\n",
    "floor_div=a//b\n",
    "floor_div\n"
   ]
  },
  {
   "cell_type": "code",
   "execution_count": 8,
   "id": "6923b732",
   "metadata": {},
   "outputs": [
    {
     "name": "stdout",
     "output_type": "stream",
     "text": [
      "a = 45\n",
      "b = 54\n",
      "mul= 2430\n"
     ]
    }
   ],
   "source": [
    "\n",
    "#mul\n",
    "\n",
    "a=45\n",
    "b=54\n",
    "print('a = 45')\n",
    "print('b = 54')\n",
    "\n",
    "mul=b*a\n",
    "print('mul=',mul)"
   ]
  },
  {
   "cell_type": "code",
   "execution_count": 9,
   "id": "6b30d743",
   "metadata": {},
   "outputs": [
    {
     "name": "stdout",
     "output_type": "stream",
     "text": [
      "a = 45\n",
      "b = 54\n",
      "sub= 9\n"
     ]
    }
   ],
   "source": [
    "#sub\n",
    "\n",
    "a=45\n",
    "b=54\n",
    "print('a = 45')\n",
    "print('b = 54')\n",
    "\n",
    "sub=b-a\n",
    "print('sub=',sub)"
   ]
  },
  {
   "cell_type": "code",
   "execution_count": 10,
   "id": "66c5680c",
   "metadata": {},
   "outputs": [
    {
     "data": {
      "text/plain": [
       "8"
      ]
     },
     "execution_count": 10,
     "metadata": {},
     "output_type": "execute_result"
    }
   ],
   "source": [
    "\n",
    "\n",
    "#add\n",
    "\n",
    "def add(a,b):\n",
    "    add=a+b\n",
    "    return add\n",
    "\n",
    "add(5,3)\n"
   ]
  },
  {
   "cell_type": "code",
   "execution_count": null,
   "id": "f750ed13",
   "metadata": {},
   "outputs": [],
   "source": []
  }
 ],
 "metadata": {
  "kernelspec": {
   "display_name": "Python 3 (ipykernel)",
   "language": "python",
   "name": "python3"
  },
  "language_info": {
   "codemirror_mode": {
    "name": "ipython",
    "version": 3
   },
   "file_extension": ".py",
   "mimetype": "text/x-python",
   "name": "python",
   "nbconvert_exporter": "python",
   "pygments_lexer": "ipython3",
   "version": "3.9.13"
  }
 },
 "nbformat": 4,
 "nbformat_minor": 5
}
