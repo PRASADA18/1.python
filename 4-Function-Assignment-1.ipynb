{
 "cells": [
  {
   "cell_type": "code",
   "execution_count": 1,
   "id": "95b5252b",
   "metadata": {},
   "outputs": [],
   "source": [
    "def Subfields():\n",
    "    print('Sub-fields in AI are:')\n",
    "    print('Machine Learning')\n",
    "    print('Neural Networks')\n",
    "    print('Vision')\n",
    "    print('Robotics')\n",
    "    print('Speech Processing')\n",
    "    print('Natural Language Processing')\n",
    "    return Subfields"
   ]
  },
  {
   "cell_type": "code",
   "execution_count": 2,
   "id": "71a11b8e",
   "metadata": {},
   "outputs": [
    {
     "name": "stdout",
     "output_type": "stream",
     "text": [
      "Sub-fields in AI are:\n",
      "Machine Learning\n",
      "Neural Networks\n",
      "Vision\n",
      "Robotics\n",
      "Speech Processing\n",
      "Natural Language Processing\n"
     ]
    },
    {
     "data": {
      "text/plain": [
       "<function __main__.Subfields()>"
      ]
     },
     "execution_count": 2,
     "metadata": {},
     "output_type": "execute_result"
    }
   ],
   "source": [
    "Subfields()"
   ]
  },
  {
   "cell_type": "code",
   "execution_count": 54,
   "id": "098678b1",
   "metadata": {},
   "outputs": [
    {
     "data": {
      "text/plain": [
       "['Machine Learning',\n",
       " 'Neural Networks',\n",
       " 'Vision',\n",
       " 'Robotics',\n",
       " 'Speech Processing',\n",
       " 'Natural Language Processing']"
      ]
     },
     "execution_count": 54,
     "metadata": {},
     "output_type": "execute_result"
    }
   ],
   "source": [
    "A = ['Machine Learning','Neural Networks','Vision','Robotics','Speech Processing','Natural Language Processing']\n",
    "A"
   ]
  },
  {
   "cell_type": "code",
   "execution_count": 128,
   "id": "5e47adf5",
   "metadata": {},
   "outputs": [],
   "source": [
    "#A = ['Machine Learning','Neural Networks','Vision','Robotics','Speech Processing','Natural Language Processing']\n",
    "\n",
    "def Subfields1():\n",
    "    A = ['Machine Learning','Neural Networks','Vision','Robotics','Speech Processing','Natural Language Processing']\n",
    "    x=input('')\n",
    "\n",
    "    for i in ((A)):\n",
    "        print(i)"
   ]
  },
  {
   "cell_type": "code",
   "execution_count": 129,
   "id": "ac78e969",
   "metadata": {},
   "outputs": [
    {
     "name": "stdout",
     "output_type": "stream",
     "text": [
      "Sub-fields in AI are:\n",
      "Machine Learning\n",
      "Neural Networks\n",
      "Vision\n",
      "Robotics\n",
      "Speech Processing\n",
      "Natural Language Processing\n"
     ]
    }
   ],
   "source": [
    "Subfields1()"
   ]
  },
  {
   "cell_type": "code",
   "execution_count": 60,
   "id": "1ad5fea8",
   "metadata": {},
   "outputs": [],
   "source": [
    "def OddEven():\n",
    "    num = (int(input('enter the num')))\n",
    "\n",
    "    if (num%2==0):\n",
    "        print(num,'is even num')\n",
    "    else:\n",
    "        print(num,'is odd num')"
   ]
  },
  {
   "cell_type": "code",
   "execution_count": 61,
   "id": "6c24167e",
   "metadata": {},
   "outputs": [
    {
     "name": "stdout",
     "output_type": "stream",
     "text": [
      "enter the num2\n",
      "2 is even num\n"
     ]
    }
   ],
   "source": [
    "OddEven()"
   ]
  },
  {
   "cell_type": "code",
   "execution_count": 86,
   "id": "7c467f7e",
   "metadata": {},
   "outputs": [
    {
     "name": "stdout",
     "output_type": "stream",
     "text": [
      "Enter your Gender: male\n",
      "Enter the age: 20\n",
      "Not eligible\n"
     ]
    }
   ],
   "source": [
    "def eligible():\n",
    "\n",
    "    Gender = input('Enter your Gender: ')\n",
    "    Age = int(input('Enter the age: '))\n",
    "\n",
    "    if (Gender=='male'):\n",
    "        if(Age>=21):\n",
    "            print('Eligible for Marraige')\n",
    "        else:\n",
    "            print('Not eligible')\n",
    "    elif (Gender=='female'):\n",
    "        if(Age>=18):\n",
    "            print('Eligible for Marraige')\n",
    "        else:\n",
    "            print('Not eligible')\n",
    "eligible()"
   ]
  },
  {
   "cell_type": "code",
   "execution_count": 106,
   "id": "a300ca35",
   "metadata": {},
   "outputs": [
    {
     "name": "stdout",
     "output_type": "stream",
     "text": [
      "Enter your mark:90\n",
      "Enter your mark:98\n",
      "Enter your mark:78\n",
      "total: 266\n",
      "percentage: 88.66666666666667\n"
     ]
    }
   ],
   "source": [
    "def score():\n",
    "    sub1=int(input('Enter your mark:'))\n",
    "    sub2=int(input('Enter your mark:'))\n",
    "    sub3=int(input('Enter your mark:'))\n",
    "\n",
    "    subjects =[sub1,sub2,sub3]\n",
    "    subjects\n",
    "    total=0\n",
    "\n",
    "    for i in subjects:\n",
    "        total+=i\n",
    "    print('total:',total)\n",
    "    print('percentage:',total/3)\n",
    "    \n",
    "score()"
   ]
  },
  {
   "cell_type": "code",
   "execution_count": 125,
   "id": "db60b984",
   "metadata": {},
   "outputs": [
    {
     "name": "stdout",
     "output_type": "stream",
     "text": [
      "Enter the height: 1\n",
      "Enter the breath: 2\n",
      "Triangle area: (height * breath)/2\n",
      "Area of triangle: 1.0\n",
      "Enter the height1: 3\n",
      "Enter the height2: 4\n",
      "Enter the breath: 5\n",
      "Triangle perimeter: (height1 + height2 + breath)\n",
      "Perimeter of triangle: 12\n"
     ]
    }
   ],
   "source": [
    "def triangle():\n",
    "    height = int(input('Enter the height: '))\n",
    "    breath = int(input('Enter the breath: '))\n",
    "\n",
    "    area = (height * breath) / 2\n",
    "    print('Triangle area: (height * breath)/2')\n",
    "    print('Area of triangle:', area)\n",
    "\n",
    "    height1 = int(input('Enter the height1: '))\n",
    "    height2 = int(input('Enter the height2: '))\n",
    "    breath = int(input('Enter the breath: '))\n",
    "\n",
    "    perimeter = height1 + height2 + breath\n",
    "    print('Triangle perimeter: (height1 + height2 + breath)')\n",
    "    print('Perimeter of triangle:', perimeter)\n",
    "    \n",
    "triangle()"
   ]
  },
  {
   "cell_type": "code",
   "execution_count": null,
   "id": "b68c0c92",
   "metadata": {},
   "outputs": [],
   "source": []
  }
 ],
 "metadata": {
  "kernelspec": {
   "display_name": "Python 3 (ipykernel)",
   "language": "python",
   "name": "python3"
  },
  "language_info": {
   "codemirror_mode": {
    "name": "ipython",
    "version": 3
   },
   "file_extension": ".py",
   "mimetype": "text/x-python",
   "name": "python",
   "nbconvert_exporter": "python",
   "pygments_lexer": "ipython3",
   "version": "3.9.13"
  }
 },
 "nbformat": 4,
 "nbformat_minor": 5
}
